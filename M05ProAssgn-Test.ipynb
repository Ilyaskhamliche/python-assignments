{
  "cells": [
    {
      "cell_type": "code",
      "execution_count": null,
      "metadata": {},
      "outputs": [],
      "source": [
        "def sum(arg):\n",
        "    total = 0\n",
        "    for val in arg:\n",
        "        total += val\n",
        "    return total\n",
        "from my_sum import sum"
      ]
    },
    {
      "cell_type": "code",
      "execution_count": null,
      "metadata": {},
      "outputs": [],
      "source": [
        "import unittest \n",
        "from fractions import Fraction\n",
        "from my_sum import sum\n",
        "\n",
        "class TestSum(unittest.TestCase):\n",
        "    def test_list_int(self):\n",
        "       \n",
        "        \"Test that it can sum a list of integers\"\n",
        "       \n",
        "        data = [1, 2, 3]\n",
        "        result = sum(data)\n",
        "        self.assertEqual(result, 6)\n",
        "        \n",
        "    def test_list_fraction(self): \n",
        "        \"Test that it can sum a list of fractions\"\n",
        "data = [Fraction(1, 4), Fraction(1, 4), Fraction(2, 5)]\n",
        "result = sum(data)\n",
        "self.assertEqual(result, 1)\n",
        "\n",
        "if __name__ == '__main__':\n",
        "    unittest.main()"
      ]
    },
    {
      "cell_type": "code",
      "execution_count": null,
      "metadata": {},
      "outputs": [],
      "source": [
        "## The Python code includes a unit test suite that evaluates a sum function using the unittest module. It checks the function's precision while summing a list of numbers [1, 2, 3] and declares that the result should be 6. It also checks the function's ability to calculate a list of Fraction objects [Fraction(1, 4) and Fraction(2, 5)] with an expected result of 1. Upon script execution, the test results are displayed, signaling completion or giving details on any discovered problems or errors.\n"
      ]
    }
  ],
  "metadata": {
    "kernelspec": {
      "display_name": "Python (Pyodide)",
      "language": "python",
      "name": "python"
    },
    "language_info": {
      "codemirror_mode": {
        "name": "python",
        "version": 3
      },
      "file_extension": ".py",
      "mimetype": "text/x-python",
      "name": "python",
      "nbconvert_exporter": "python",
      "pygments_lexer": "ipython3",
      "version": "3.8"
    }
  },
  "nbformat": 4,
  "nbformat_minor": 4
}
