{
 "cells": [
  {
   "cell_type": "code",
   "execution_count": null,
   "id": "02c268b2",
   "metadata": {},
   "outputs": [],
   "source": [
    "import multiprocessing\n",
    "from datetime import datetime\n",
    "import random\n",
    "import time\n",
    "\n",
    "def print_current_time():\n",
    "    # Generate a random sleep time between 0 and 1 seconds\n",
    "    sleep_time = random.random()\n",
    "    \n",
    "    # Sleep for the random time\n",
    "    time.sleep(sleep_time)\n",
    "    "
   ]
  },
  {
   "cell_type": "code",
   "execution_count": null,
   "id": "3558af27",
   "metadata": {},
   "outputs": [],
   "source": [
    " # Print the current time\n",
    "    current_time = datetime.now().strftime(\"%Y-%m-%d %H:%M:%S\")\n",
    "    print(f\"Process {multiprocessing.current_process().name}: {current_time}\")\n",
    "    "
   ]
  },
  {
   "cell_type": "code",
   "execution_count": null,
   "id": "c8e3f82b",
   "metadata": {},
   "outputs": [],
   "source": [
    "if __name__ == \"__main__\":\n",
    "    # Create three separate processes\n",
    "    processes = [multiprocessing.Process(target=print_current_time, name=f\"Process-{i}\") for i in range(3)]\n",
    "    "
   ]
  },
  {
   "cell_type": "code",
   "execution_count": null,
   "id": "2f70fb88",
   "metadata": {},
   "outputs": [],
   "source": [
    "# Start each process\n",
    "    for process in processes:\n",
    "        process.start()\n"
   ]
  },
  {
   "cell_type": "code",
   "execution_count": null,
   "id": "e4288b68",
   "metadata": {},
   "outputs": [],
   "source": [
    " # Wait for each process to finish\n",
    "    for process in processes:\n",
    "        process.join()"
   ]
  }
 ],
 "metadata": {
  "kernelspec": {
   "display_name": "Python 3 (ipykernel)",
   "language": "python",
   "name": "python3"
  },
  "language_info": {
   "codemirror_mode": {
    "name": "ipython",
    "version": 3
   },
   "file_extension": ".py",
   "mimetype": "text/x-python",
   "name": "python",
   "nbconvert_exporter": "python",
   "pygments_lexer": "ipython3",
   "version": "3.11.5"
  }
 },
 "nbformat": 4,
 "nbformat_minor": 5
}
