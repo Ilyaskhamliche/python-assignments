{
 "cells": [
  {
   "cell_type": "code",
   "execution_count": 1,
   "id": "09156c65",
   "metadata": {},
   "outputs": [],
   "source": [
    "from datetime import datetime"
   ]
  },
  {
   "cell_type": "code",
   "execution_count": null,
   "id": "93a67127",
   "metadata": {},
   "outputs": [],
   "source": [
    "current_date_string = datetime.now().strftime(\"%Y-%m-%d\")\n",
    "with open('today.txt', 'w') as file:\n",
    "    file.write(current_date_string)"
   ]
  },
  {
   "cell_type": "code",
   "execution_count": 3,
   "id": "2d4b6b6f",
   "metadata": {},
   "outputs": [],
   "source": [
    "with open('today.txt', 'r') as file:\n",
    "    today_string = file.read()"
   ]
  },
  {
   "cell_type": "code",
   "execution_count": 2,
   "id": "9de8b96a",
   "metadata": {},
   "outputs": [
    {
     "ename": "NameError",
     "evalue": "name 'today_string' is not defined",
     "output_type": "error",
     "traceback": [
      "\u001b[1;31m---------------------------------------------------------------------------\u001b[0m",
      "\u001b[1;31mNameError\u001b[0m                                 Traceback (most recent call last)",
      "Cell \u001b[1;32mIn[2], line 1\u001b[0m\n\u001b[1;32m----> 1\u001b[0m parsed_date \u001b[38;5;241m=\u001b[39m datetime\u001b[38;5;241m.\u001b[39mstrptime(today_string, \u001b[38;5;124m\"\u001b[39m\u001b[38;5;124m%\u001b[39m\u001b[38;5;124mY-\u001b[39m\u001b[38;5;124m%\u001b[39m\u001b[38;5;124mm-\u001b[39m\u001b[38;5;132;01m%d\u001b[39;00m\u001b[38;5;124m\"\u001b[39m)\n\u001b[0;32m      2\u001b[0m parsed_date\n",
      "\u001b[1;31mNameError\u001b[0m: name 'today_string' is not defined"
     ]
    }
   ],
   "source": [
    "parsed_date = datetime.strptime(today_string, \"%Y-%m-%d\")\n",
    "parsed_date"
   ]
  },
  {
   "cell_type": "code",
   "execution_count": null,
   "id": "80696a50",
   "metadata": {},
   "outputs": [],
   "source": []
  }
 ],
 "metadata": {
  "kernelspec": {
   "display_name": "Python 3 (ipykernel)",
   "language": "python",
   "name": "python3"
  },
  "language_info": {
   "codemirror_mode": {
    "name": "ipython",
    "version": 3
   },
   "file_extension": ".py",
   "mimetype": "text/x-python",
   "name": "python",
   "nbconvert_exporter": "python",
   "pygments_lexer": "ipython3",
   "version": "3.11.5"
  }
 },
 "nbformat": 4,
 "nbformat_minor": 5
}
