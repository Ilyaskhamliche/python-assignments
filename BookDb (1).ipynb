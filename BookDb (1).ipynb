{
 "cells": [
  {
   "cell_type": "code",
   "execution_count": 10,
   "metadata": {
    "collapsed": false
   },
   "outputs": [
   ],
   "source": [
    "Book.__table__.drop(db.engine)"
   ]
  },
  {
   "cell_type": "code",
   "execution_count": 11,
   "metadata": {
    "collapsed": false
   },
   "outputs": [
    {
     "name": "stderr",
     "output_type": "stream",
     "text": [
      "/usr/local/lib/python3.10/dist-packages/flask_sqlalchemy/__init__.py:872: FSADeprecationWarning: SQLALCHEMY_TRACK_MODIFICATIONS adds significant overhead and will be disabled by default in the future.  Set it to True or False to suppress this warning.\n",
      "  warnings.warn(FSADeprecationWarning(\n"
     ]
    }
   ],
   "source": [
    "from flask import Flask, request, jsonify\n",
    "from flask_sqlalchemy import SQLAlchemy\n",
    "\n",
    "app = Flask(__name__)\n",
    "\n",
    "\n",
    "app.config['SQLALCHEMY_DATABASE_URI'] = 'sqlite:///data.db'\n",
    "db = SQLAlchemy(app)\n",
    "\n",
    "\n",
    "class Book(db.Model):\n",
    "    id = db.Column(db.Integer, primary_key=True)\n",
    "    title = db.Column(db.String(100), unique=False, nullable=False)\n",
    "    author = db.Column(db.String(100), unique=False, nullable=False)\n",
    "    year = db.Column(db.Integer, unique=False, nullable=False)\n",
    "\n",
    "    def __repr__(self):\n",
    "        return f\"<Book title={self.title}, author={self.author}, year={self.year}>\"\n",
    "\n",
    "with app.app_context():\n",
    "    db.create_all()"
   ]
  },
  {
   "cell_type": "code",
   "execution_count": 12,
   "metadata": {
    "collapsed": false
   },
   "outputs": [
   ],
   "source": [
    "#add new book \n",
    "with app.app_context():\n",
    "    new_book = Book(title=\"chronicles of narnia\", author=\"john smith\", year=1970)\n",
    "    db.session.add(new_book)\n",
    "    new_book = Book(title=\"The Great Gatsby\", author=\"shaq\", year=1846)\n",
    "    db.session.add(new_book)\n",
    "    new_book = Book(title=\"Hunger Games\", author=\"george washington\", year=2021)\n",
    "    db.session.add(new_book)\n",
    "    db.session.commit()"
   ]
  },
  {
   "cell_type": "code",
   "execution_count": 13,
   "metadata": {
    "collapsed": false
   },
   "outputs": [
   ],
   "source": [
    "#get all books\n",
    "from sqlalchemy import desc\n",
    "with app.app_context():\n",
    "    books = Book.query.order_by(desc(Book.title)).all()\n"
   ]
  },
  {
   "cell_type": "code",
   "execution_count": 14,
   "metadata": {
    "collapsed": false
   },
   "outputs": [
    {
     "name": "stdout",
     "output_type": "stream",
     "text": [
      "[<Book title=chronicles of narnia, author=john smith, year=1970>, <Book title=The Great Gatsby, author=shaq, year=1846>, <Book title=Hunger Games, author=george washington, year=2021>]\n"
     ]
    }
   ],
   "source": [
    "print(books)"
   ]
  }
 ],
 "metadata": {
  "kernelspec": {
   "argv": [
    "/usr/bin/python3",
    "-m",
    "ipykernel",
    "--HistoryManager.enabled=False",
    "--matplotlib=inline",
    "-c",
    "%config InlineBackend.figure_formats = set(['retina'])\nimport matplotlib; matplotlib.rcParams['figure.figsize'] = (12, 7)",
    "-f",
    "{connection_file}"
   ],
   "display_name": "Python 3 (system-wide)",
   "env": {
   },
   "language": "python",
   "metadata": {
    "cocalc": {
     "description": "Python 3 programming language",
     "priority": 100,
     "url": "https://www.python.org/"
    }
   },
   "name": "python3",
   "resource_dir": "/ext/jupyter/kernels/python3"
  },
  "language_info": {
   "codemirror_mode": {
    "name": "ipython",
    "version": 3
   },
   "file_extension": ".py",
   "mimetype": "text/x-python",
   "name": "python",
   "nbconvert_exporter": "python",
   "pygments_lexer": "ipython3",
   "version": "3.10.12"
  }
 },
 "nbformat": 4,
 "nbformat_minor": 4
}