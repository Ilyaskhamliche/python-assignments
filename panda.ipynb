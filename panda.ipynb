{
 "cells": [
  {
   "cell_type": "code",
   "execution_count": 4,
   "id": "fa7a7a0e",
   "metadata": {},
   "outputs": [],
   "source": [
    "#1.1"
   ]
  },
  {
   "cell_type": "code",
   "execution_count": 5,
   "id": "766715a1",
   "metadata": {},
   "outputs": [],
   "source": [
    "import pandas as pd"
   ]
  },
  {
   "cell_type": "code",
   "execution_count": 1,
   "id": "e1ce1537",
   "metadata": {},
   "outputs": [
    {
     "ename": "NameError",
     "evalue": "name 'pd' is not defined",
     "output_type": "error",
     "traceback": [
      "\u001b[1;31m---------------------------------------------------------------------------\u001b[0m",
      "\u001b[1;31mNameError\u001b[0m                                 Traceback (most recent call last)",
      "\u001b[1;32mc:\\Users\\Ilyas\\Downloads\\panda.ipynb Cell 3\u001b[0m line \u001b[0;36m1\n\u001b[1;32m----> <a href='vscode-notebook-cell:/c%3A/Users/Ilyas/Downloads/panda.ipynb#W2sZmlsZQ%3D%3D?line=0'>1</a>\u001b[0m df \u001b[39m=\u001b[39m pd\u001b[39m.\u001b[39mread_csv(\u001b[39m'\u001b[39m\u001b[39mtelco_churn.csv\u001b[39m\u001b[39m'\u001b[39m)\n",
      "\u001b[1;31mNameError\u001b[0m: name 'pd' is not defined"
     ]
    }
   ],
   "source": [
    "df = pd.read_csv('telco_churn.csv')"
   ]
  },
  {
   "cell_type": "code",
   "execution_count": null,
   "id": "61b2cd1a",
   "metadata": {},
   "outputs": [],
   "source": [
    "#1.2"
   ]
  },
  {
   "cell_type": "code",
   "execution_count": null,
   "id": "cab2c807",
   "metadata": {},
   "outputs": [],
   "source": [
    "tempdict = {'col1': [1,2,3]} {'col2' : [4,5,6]} {'col3' : [7,8,9]}"
   ]
  },
  {
   "cell_type": "code",
   "execution_count": null,
   "id": "93e38dbc",
   "metadata": {},
   "outputs": [],
   "source": [
    "dictdf = pd.DataFrame.from_dict(tempdict)"
   ]
  },
  {
   "cell_type": "code",
   "execution_count": null,
   "id": "cd3c75b0",
   "metadata": {},
   "outputs": [],
   "source": [
    "#2.1"
   ]
  },
  {
   "cell_type": "code",
   "execution_count": null,
   "id": "b9d26536",
   "metadata": {},
   "outputs": [],
   "source": [
    "df.head()"
   ]
  },
  {
   "cell_type": "code",
   "execution_count": null,
   "id": "7bc370a7",
   "metadata": {},
   "outputs": [],
   "source": [
    "dcitdf.head()"
   ]
  },
  {
   "cell_type": "code",
   "execution_count": null,
   "id": "805564de",
   "metadata": {},
   "outputs": [],
   "source": [
    "df.tail()"
   ]
  },
  {
   "cell_type": "code",
   "execution_count": null,
   "id": "2ce3dd55",
   "metadata": {},
   "outputs": [],
   "source": [
    "#2.2"
   ]
  },
  {
   "cell_type": "code",
   "execution_count": null,
   "id": "ef6ffabd",
   "metadata": {},
   "outputs": [],
   "source": [
    "df.columns"
   ]
  },
  {
   "cell_type": "code",
   "execution_count": null,
   "id": "49ec322b",
   "metadata": {},
   "outputs": [],
   "source": [
    "df.dtypes"
   ]
  },
  {
   "cell_type": "code",
   "execution_count": null,
   "id": "7ec55405",
   "metadata": {},
   "outputs": [],
   "source": [
    "#2.3"
   ]
  },
  {
   "cell_type": "code",
   "execution_count": null,
   "id": "20de4b20",
   "metadata": {},
   "outputs": [],
   "source": [
    "df.describe()"
   ]
  },
  {
   "cell_type": "code",
   "execution_count": null,
   "id": "7276f6da",
   "metadata": {},
   "outputs": [],
   "source": [
    "df.describe(include = 'object')"
   ]
  },
  {
   "cell_type": "code",
   "execution_count": null,
   "id": "ad71222d",
   "metadata": {},
   "outputs": [],
   "source": [
    "#2.4"
   ]
  },
  {
   "cell_type": "code",
   "execution_count": null,
   "id": "391a9f58",
   "metadata": {},
   "outputs": [],
   "source": [
    "df.state"
   ]
  },
  {
   "cell_type": "code",
   "execution_count": null,
   "id": "b948e5ac",
   "metadata": {},
   "outputs": [],
   "source": [
    "df['International plan']"
   ]
  },
  {
   "cell_type": "code",
   "execution_count": null,
   "id": "93e59fec",
   "metadata": {},
   "outputs": [],
   "source": [
    "df[['State', 'International plan']]"
   ]
  },
  {
   "cell_type": "code",
   "execution_count": null,
   "id": "48e28ef5",
   "metadata": {},
   "outputs": [],
   "source": [
    "df.State.unique()"
   ]
  },
  {
   "cell_type": "code",
   "execution_count": null,
   "id": "fa6242bb",
   "metadata": {},
   "outputs": [],
   "source": [
    "#2.5"
   ]
  },
  {
   "cell_type": "code",
   "execution_count": null,
   "id": "c0204dac",
   "metadata": {},
   "outputs": [],
   "source": [
    "df.head()"
   ]
  },
  {
   "cell_type": "code",
   "execution_count": null,
   "id": "7ea8266f",
   "metadata": {},
   "outputs": [],
   "source": [
    "df[df['International plan'] == 'no']"
   ]
  },
  {
   "cell_type": "code",
   "execution_count": null,
   "id": "4ed4bb84",
   "metadata": {},
   "outputs": [],
   "source": [
    "df[(df['International plan'] == 'no') & (df['Churn'] == False)]"
   ]
  },
  {
   "cell_type": "code",
   "execution_count": null,
   "id": "2f72b303",
   "metadata": {},
   "outputs": [],
   "source": [
    "#2.6"
   ]
  },
  {
   "cell_type": "code",
   "execution_count": null,
   "id": "94b38c29",
   "metadata": {},
   "outputs": [],
   "source": [
    "df.iloc[14]"
   ]
  },
  {
   "cell_type": "code",
   "execution_count": null,
   "id": "2dc78952",
   "metadata": {},
   "outputs": [],
   "source": [
    "df.iloc[14,0]"
   ]
  },
  {
   "cell_type": "code",
   "execution_count": null,
   "id": "3b7e9b83",
   "metadata": {},
   "outputs": [],
   "source": [
    "df.iloc[22:33]"
   ]
  },
  {
   "cell_type": "code",
   "execution_count": null,
   "id": "41ab0d36",
   "metadata": {},
   "outputs": [],
   "source": [
    "#2.7"
   ]
  },
  {
   "cell_type": "code",
   "execution_count": null,
   "id": "0aa2db48",
   "metadata": {},
   "outputs": [],
   "source": [
    "state = df.copy()\n",
    "state.set_index('State', inplace=True)"
   ]
  },
  {
   "cell_type": "code",
   "execution_count": null,
   "id": "36b8d3f2",
   "metadata": {},
   "outputs": [],
   "source": [
    "state.head()"
   ]
  },
  {
   "cell_type": "code",
   "execution_count": null,
   "id": "be523f6b",
   "metadata": {},
   "outputs": [],
   "source": [
    "state.loc('OH')"
   ]
  },
  {
   "cell_type": "code",
   "execution_count": null,
   "id": "25dfa706",
   "metadata": {},
   "outputs": [],
   "source": [
    "df.isnull().sum()  "
   ]
  },
  {
   "cell_type": "code",
   "execution_count": null,
   "id": "cb90ee6f",
   "metadata": {},
   "outputs": [],
   "source": [
    "df.dropna(inplace=True)"
   ]
  },
  {
   "cell_type": "code",
   "execution_count": null,
   "id": "ed006874",
   "metadata": {},
   "outputs": [],
   "source": [
    "df.isnull().sum()  "
   ]
  },
  {
   "cell_type": "code",
   "execution_count": null,
   "id": "284d0477",
   "metadata": {},
   "outputs": [],
   "source": [
    "df.drop('Area code', axis=1)"
   ]
  },
  {
   "cell_type": "code",
   "execution_count": null,
   "id": "a6454b6b",
   "metadata": {},
   "outputs": [],
   "source": [
    "df['new column'] = df['Total night minutes'] +  df['Total intl minutes']"
   ]
  },
  {
   "cell_type": "code",
   "execution_count": null,
   "id": "16a44110",
   "metadata": {},
   "outputs": [],
   "source": [
    "df.head()"
   ]
  },
  {
   "cell_type": "code",
   "execution_count": null,
   "id": "23c2baab",
   "metadata": {},
   "outputs": [],
   "source": [
    "df['New column'] = 100"
   ]
  },
  {
   "cell_type": "code",
   "execution_count": null,
   "id": "34987fd4",
   "metadata": {},
   "outputs": [],
   "source": [
    "df.head()"
   ]
  },
  {
   "cell_type": "code",
   "execution_count": null,
   "id": "2f0af5d4",
   "metadata": {},
   "outputs": [],
   "source": [
    "df.iloc[0,-1] = 10"
   ]
  },
  {
   "cell_type": "code",
   "execution_count": null,
   "id": "397118ca",
   "metadata": {},
   "outputs": [],
   "source": [
    "df['Churn Binary'] = df['Churn'].apply(lambda x: 1 if x== True else 0)"
   ]
  },
  {
   "cell_type": "code",
   "execution_count": null,
   "id": "c7fcccfb",
   "metadata": {},
   "outputs": [],
   "source": [
    "df[df['Churn']==True].head()"
   ]
  },
  {
   "cell_type": "code",
   "execution_count": null,
   "id": "151abf59",
   "metadata": {},
   "outputs": [],
   "source": [
    "df.to_csv('output.csv')"
   ]
  },
  {
   "cell_type": "code",
   "execution_count": null,
   "id": "c74c4d0c",
   "metadata": {},
   "outputs": [],
   "source": [
    "df.to_html()"
   ]
  },
  {
   "cell_type": "code",
   "execution_count": null,
   "id": "cc98e324",
   "metadata": {},
   "outputs": [],
   "source": []
  },
  {
   "cell_type": "code",
   "execution_count": null,
   "id": "f291ea06",
   "metadata": {},
   "outputs": [],
   "source": []
  },
  {
   "cell_type": "code",
   "execution_count": null,
   "id": "de754c5f",
   "metadata": {},
   "outputs": [],
   "source": []
  },
  {
   "cell_type": "code",
   "execution_count": null,
   "id": "a20f8034",
   "metadata": {},
   "outputs": [],
   "source": []
  },
  {
   "cell_type": "code",
   "execution_count": null,
   "id": "872df25d",
   "metadata": {},
   "outputs": [],
   "source": []
  },
  {
   "cell_type": "code",
   "execution_count": null,
   "id": "836acf55",
   "metadata": {},
   "outputs": [],
   "source": []
  },
  {
   "cell_type": "code",
   "execution_count": null,
   "id": "d7fc6836",
   "metadata": {},
   "outputs": [],
   "source": []
  }
 ],
 "metadata": {
  "kernelspec": {
   "display_name": "Python 3 (ipykernel)",
   "language": "python",
   "name": "python3"
  },
  "language_info": {
   "codemirror_mode": {
    "name": "ipython",
    "version": 3
   },
   "file_extension": ".py",
   "mimetype": "text/x-python",
   "name": "python",
   "nbconvert_exporter": "python",
   "pygments_lexer": "ipython3",
   "version": "3.11.5"
  }
 },
 "nbformat": 4,
 "nbformat_minor": 5
}
